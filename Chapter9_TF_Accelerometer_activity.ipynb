{
  "nbformat": 4,
  "nbformat_minor": 0,
  "metadata": {
    "kernelspec": {
      "display_name": "Python 3",
      "language": "python",
      "name": "python3"
    },
    "language_info": {
      "codemirror_mode": {
        "name": "ipython",
        "version": 3
      },
      "file_extension": ".py",
      "mimetype": "text/x-python",
      "name": "python",
      "nbconvert_exporter": "python",
      "pygments_lexer": "ipython3",
      "version": "3.7.3"
    },
    "colab": {
      "name": "Ch9_TF_Accelerometer_activity.ipynb",
      "provenance": [],
      "collapsed_sections": []
    }
  },
  "cells": [
    {
      "cell_type": "code",
      "metadata": {
        "id": "5FJ78utvr6Om",
        "colab_type": "code",
        "colab": {}
      },
      "source": [
        "from __future__ import absolute_import, division, print_function, unicode_literals\n",
        "import numpy as np\n",
        "import pandas as pd\n",
        "\n",
        "import tensorflow as tf\n",
        "from tensorflow import feature_column\n",
        "from tensorflow.keras import layers\n",
        "from sklearn.model_selection import train_test_split\n",
        "from sklearn import preprocessing\n"
      ],
      "execution_count": 0,
      "outputs": []
    },
    {
      "cell_type": "code",
      "metadata": {
        "id": "6lyoh7hQr6Or",
        "colab_type": "code",
        "colab": {}
      },
      "source": [
        "def read_data(file_path):\n",
        "\n",
        "    column_names = ['user-id','activity','timestamp','x-axis','y-axis','z-axis']\n",
        "    df = pd.read_csv(file_path,\n",
        "                     header=None,\n",
        "                     names=column_names)\n",
        "    # Last column has a \";\" character which must be removed ...\n",
        "    df['z-axis'].replace(regex=True,\n",
        "      inplace=True,\n",
        "      to_replace=r';',\n",
        "      value=r'')\n",
        "    # ... and then this column must be transformed to float explicitly\n",
        "    df['z-axis'] = df['z-axis'].apply(convert_to_float)\n",
        "    # This is very important otherwise the model will not fit and loss\n",
        "    # will show up as NAN\n",
        "    df.dropna(axis=0, how='any', inplace=True)\n",
        "\n",
        "    return df\n",
        "\n",
        "def convert_to_float(x):\n",
        "\n",
        "    try:\n",
        "        return np.float(x)\n",
        "    except:\n",
        "        return np.nan\n",
        " \n",
        "def show_basic_dataframe_info(dataframe):\n",
        "\n",
        "    # Shape and how many rows and columns\n",
        "    print('Number of columns in the dataframe: %i' % (dataframe.shape[1]))\n",
        "    print('Number of rows in the dataframe: %i\\n' % (dataframe.shape[0]))"
      ],
      "execution_count": 0,
      "outputs": []
    },
    {
      "cell_type": "code",
      "metadata": {
        "id": "BB2pll-gr6Ou",
        "colab_type": "code",
        "outputId": "3d0404ff-1d4a-4786-86c0-86ebadc016ee",
        "colab": {
          "base_uri": "https://localhost:8080/",
          "height": 206
        }
      },
      "source": [
        "dataframe = read_data('sample.csv') \n",
        "dataframe.head()"
      ],
      "execution_count": 131,
      "outputs": [
        {
          "output_type": "execute_result",
          "data": {
            "text/html": [
              "<div>\n",
              "<style scoped>\n",
              "    .dataframe tbody tr th:only-of-type {\n",
              "        vertical-align: middle;\n",
              "    }\n",
              "\n",
              "    .dataframe tbody tr th {\n",
              "        vertical-align: top;\n",
              "    }\n",
              "\n",
              "    .dataframe thead th {\n",
              "        text-align: right;\n",
              "    }\n",
              "</style>\n",
              "<table border=\"1\" class=\"dataframe\">\n",
              "  <thead>\n",
              "    <tr style=\"text-align: right;\">\n",
              "      <th></th>\n",
              "      <th>user-id</th>\n",
              "      <th>activity</th>\n",
              "      <th>timestamp</th>\n",
              "      <th>x-axis</th>\n",
              "      <th>y-axis</th>\n",
              "      <th>z-axis</th>\n",
              "    </tr>\n",
              "  </thead>\n",
              "  <tbody>\n",
              "    <tr>\n",
              "      <th>0</th>\n",
              "      <td>7</td>\n",
              "      <td>0</td>\n",
              "      <td>207423362123000</td>\n",
              "      <td>4.48</td>\n",
              "      <td>4.48</td>\n",
              "      <td>-19.80</td>\n",
              "    </tr>\n",
              "    <tr>\n",
              "      <th>1</th>\n",
              "      <td>7</td>\n",
              "      <td>0</td>\n",
              "      <td>207421722352000</td>\n",
              "      <td>-1.14</td>\n",
              "      <td>0.38</td>\n",
              "      <td>-19.76</td>\n",
              "    </tr>\n",
              "    <tr>\n",
              "      <th>2</th>\n",
              "      <td>7</td>\n",
              "      <td>0</td>\n",
              "      <td>207426651856000</td>\n",
              "      <td>3.21</td>\n",
              "      <td>0.34</td>\n",
              "      <td>-19.76</td>\n",
              "    </tr>\n",
              "    <tr>\n",
              "      <th>3</th>\n",
              "      <td>8</td>\n",
              "      <td>0</td>\n",
              "      <td>111711611580000</td>\n",
              "      <td>5.86</td>\n",
              "      <td>18.96</td>\n",
              "      <td>-19.72</td>\n",
              "    </tr>\n",
              "    <tr>\n",
              "      <th>4</th>\n",
              "      <td>7</td>\n",
              "      <td>0</td>\n",
              "      <td>207441621705000</td>\n",
              "      <td>9.08</td>\n",
              "      <td>7.97</td>\n",
              "      <td>-19.72</td>\n",
              "    </tr>\n",
              "  </tbody>\n",
              "</table>\n",
              "</div>"
            ],
            "text/plain": [
              "   user-id  activity        timestamp  x-axis  y-axis  z-axis\n",
              "0        7         0  207423362123000    4.48    4.48  -19.80\n",
              "1        7         0  207421722352000   -1.14    0.38  -19.76\n",
              "2        7         0  207426651856000    3.21    0.34  -19.76\n",
              "3        8         0  111711611580000    5.86   18.96  -19.72\n",
              "4        7         0  207441621705000    9.08    7.97  -19.72"
            ]
          },
          "metadata": {
            "tags": []
          },
          "execution_count": 131
        }
      ]
    },
    {
      "cell_type": "code",
      "metadata": {
        "id": "pUqmWwRDr6Oy",
        "colab_type": "code",
        "outputId": "a8a23f8c-891a-406d-fcfb-85eee562aeb0",
        "colab": {
          "base_uri": "https://localhost:8080/",
          "height": 139
        }
      },
      "source": [
        "dataframe.dtypes"
      ],
      "execution_count": 132,
      "outputs": [
        {
          "output_type": "execute_result",
          "data": {
            "text/plain": [
              "user-id        int64\n",
              "activity       int64\n",
              "timestamp      int64\n",
              "x-axis       float64\n",
              "y-axis       float64\n",
              "z-axis       float64\n",
              "dtype: object"
            ]
          },
          "metadata": {
            "tags": []
          },
          "execution_count": 132
        }
      ]
    },
    {
      "cell_type": "code",
      "metadata": {
        "id": "3GMHeDJ8r6O3",
        "colab_type": "code",
        "colab": {}
      },
      "source": [
        "\n",
        "df_test = dataframe[dataframe['user-id'] > 18]\n",
        "df_train = dataframe[dataframe['user-id'] <= 18]\n",
        "\n",
        "target_test = df_test.pop('activity')\n",
        "target_train = df_train.pop('activity')\n",
        "\n",
        "XData_test = np.array(df_test.values)\n",
        "YData_test= np.array(target_test.values)\n",
        "\n",
        "XData_train = np.array(df_train.values)\n",
        "YData_train= np.array(target_train.values)\n",
        "\n",
        "\n",
        "\n",
        "scaling_train = preprocessing.MinMaxScaler(feature_range=(0,1)).fit(XData_train)\n",
        "XData_train = scaling_train.transform(XData_train)\n",
        "\n",
        "scaling_test = preprocessing.MinMaxScaler(feature_range=(0,1)).fit(XData_test)\n",
        "XData_test = scaling_test.transform(XData_test)\n",
        "\n",
        "# scaler = preprocessing.StandardScaler().fit(XData)\n",
        "# XData = scaler.transform(XData)\n",
        "\n",
        "dataset_train = tf.data.Dataset.from_tensor_slices((XData_train, YData_train))\n",
        "dataset_test = tf.data.Dataset.from_tensor_slices((XData_test, YData_test))"
      ],
      "execution_count": 0,
      "outputs": []
    },
    {
      "cell_type": "code",
      "metadata": {
        "id": "JOEIvTO2r6O8",
        "colab_type": "code",
        "colab": {}
      },
      "source": [
        ""
      ],
      "execution_count": 0,
      "outputs": []
    },
    {
      "cell_type": "code",
      "metadata": {
        "id": "R2atDlk7r6PB",
        "colab_type": "code",
        "colab": {}
      },
      "source": [
        "train_dataset = dataset_train.shuffle(len(df_train)).batch(1)\n",
        "test_dataset = dataset_test.shuffle(len(df_test)).batch(1)"
      ],
      "execution_count": 0,
      "outputs": []
    },
    {
      "cell_type": "code",
      "metadata": {
        "id": "tE_sS5_7r6PD",
        "colab_type": "code",
        "colab": {}
      },
      "source": [
        "def get_compiled_model():\n",
        "  model = tf.keras.Sequential([\n",
        "    tf.keras.layers.Dense(128, activation='relu'),\n",
        "    tf.keras.layers.Dense(128, activation='relu'),\n",
        "    tf.keras.layers.Dense(128, activation='relu'),\n",
        "  #  tf.keras.layers.Dense(6, activation='sigmoid')\n",
        "\n",
        "    tf.keras.layers.Flatten(),\n",
        "    tf.keras.layers.Dense(6, activation='softmax')\n",
        "  ])\n",
        "\n",
        "  model.compile(optimizer='adam',\n",
        "                loss='sparse_categorical_crossentropy',\n",
        "                metrics=['accuracy'])\n",
        "  return model"
      ],
      "execution_count": 0,
      "outputs": []
    },
    {
      "cell_type": "code",
      "metadata": {
        "id": "zLWivHZ9r6PI",
        "colab_type": "code",
        "outputId": "9e5f5813-b0b9-4138-db11-8186f73a4d35",
        "colab": {
          "base_uri": "https://localhost:8080/",
          "height": 208
        }
      },
      "source": [
        "\n",
        "model = get_compiled_model()\n",
        "\n",
        "history = model.fit(train_dataset,validation_data =test_dataset, epochs=5)\n",
        "\n"
      ],
      "execution_count": 140,
      "outputs": [
        {
          "output_type": "stream",
          "text": [
            "Train on 12018 steps, validate on 17987 steps\n",
            "Epoch 1/5\n",
            "12018/12018 [==============================] - 40s 3ms/step - loss: 0.2205 - acc: 0.9184 - val_loss: 0.8585 - val_acc: 0.8224\n",
            "Epoch 2/5\n",
            "12018/12018 [==============================] - 39s 3ms/step - loss: 0.1113 - acc: 0.9631 - val_loss: 1.0003 - val_acc: 0.8382\n",
            "Epoch 3/5\n",
            "12018/12018 [==============================] - 39s 3ms/step - loss: 0.0917 - acc: 0.9700 - val_loss: 0.9439 - val_acc: 0.8114\n",
            "Epoch 4/5\n",
            "12018/12018 [==============================] - 39s 3ms/step - loss: 0.0815 - acc: 0.9734 - val_loss: 1.0577 - val_acc: 0.7949\n",
            "Epoch 5/5\n",
            "12018/12018 [==============================] - 39s 3ms/step - loss: 0.0732 - acc: 0.9768 - val_loss: 0.8594 - val_acc: 0.8380\n"
          ],
          "name": "stdout"
        }
      ]
    },
    {
      "cell_type": "code",
      "metadata": {
        "id": "egwfm_VDr6PM",
        "colab_type": "code",
        "colab": {
          "base_uri": "https://localhost:8080/",
          "height": 573
        },
        "outputId": "e5d6a616-bee4-43a7-96a7-eaca266d94ed"
      },
      "source": [
        "import matplotlib.pyplot as plt\n",
        "plt.plot(history.history['acc'])\n",
        "plt.plot(history.history['val_acc'])\n",
        "plt.title('Model accuracy')\n",
        "plt.ylabel('Accuracy')\n",
        "plt.xlabel('Epoch')\n",
        "plt.legend(['Train', 'Test'], loc='upper left')\n",
        "plt.show()\n",
        "\n",
        "# Plot training & validation loss values\n",
        "plt.plot(history.history['loss'])\n",
        "plt.plot(history.history['val_loss'])\n",
        "plt.title('Model loss')\n",
        "plt.ylabel('Loss')\n",
        "plt.xlabel('Epoch')\n",
        "plt.legend(['Train', 'Test'], loc='upper left')\n",
        "plt.show()\n"
      ],
      "execution_count": 141,
      "outputs": [
        {
          "output_type": "display_data",
          "data": {
            "image/png": "[encoded data removed]",
            "text/plain": [
              "<Figure size 432x288 with 1 Axes>"
            ]
          },
          "metadata": {
            "tags": []
          }
        },
        {
          "output_type": "display_data",
          "data": {
            "image/png": "[encoded data removed]",
            "text/plain": [
              "<Figure size 432x288 with 1 Axes>"
            ]
          },
          "metadata": {
            "tags": []
          }
        }
      ]
    },
    {
      "cell_type": "code",
      "metadata": {
        "id": "2zn5YaKMLGUQ",
        "colab_type": "code",
        "colab": {}
      },
      "source": [
        ""
      ],
      "execution_count": 0,
      "outputs": []
    },
    {
      "cell_type": "code",
      "metadata": {
        "colab_type": "code",
        "id": "x7ntqg41RSlZ",
        "colab": {
          "base_uri": "https://localhost:8080/",
          "height": 341
        },
        "outputId": "83fbb95a-08bd-4af8-99bb-9beee1c41402"
      },
      "source": [
        "from sklearn import metrics\n",
        "import seaborn as sns\n",
        "\n",
        "LABELS = ['Jogging',\n",
        "          'Walking',\n",
        "          'Upstairs',\n",
        "          'Downstairs',\n",
        "          'Sitting',\n",
        "          'Standing']\n",
        "def display_confusion_matrix(test, predict):\n",
        "\n",
        "    con = metrics.confusion_matrix(test, predict)\n",
        "    plt.figure(figsize=(6, 4))\n",
        "    sns.heatmap(con,\n",
        "                cmap='winter',\n",
        "                linecolor='yellow',\n",
        "                linewidths=2,\n",
        "                xticklabels=LABELS,\n",
        "                yticklabels=LABELS,\n",
        "                annot=True,\n",
        "                fmt='d')\n",
        "    plt.title('Confusion Matrix')\n",
        "    plt.ylabel('Actual value')\n",
        "    plt.xlabel('Predicted value')\n",
        "    plt.show()\n",
        "\n",
        "y_pred_test=model.predict_classes(XData_test)\n",
        "# Take the class with the highest probability from the test predictions\n",
        "max_y_pred_test = tf.argmax(y_pred_test, axis=1, output_type=tf.int32)\n",
        "max_y_test = tf.argmax(YData_test,axis=1, output_type=tf.int32)\n",
        "\n",
        "\n",
        "display_confusion_matrix(y_pred_test, YData_test)\n"
      ],
      "execution_count": 142,
      "outputs": [
        {
          "output_type": "display_data",
          "data": {
            "image/png": "[encoded data removed]",
            "text/plain": [
              "<Figure size 432x288 with 2 Axes>"
            ]
          },
          "metadata": {
            "tags": []
          }
        }
      ]
    }
  ]
}